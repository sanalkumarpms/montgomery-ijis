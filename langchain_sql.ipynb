{
 "cells": [
  {
   "cell_type": "code",
   "execution_count": 1,
   "metadata": {},
   "outputs": [
    {
     "data": {
      "text/plain": [
       "True"
      ]
     },
     "execution_count": 1,
     "metadata": {},
     "output_type": "execute_result"
    }
   ],
   "source": [
    "import os  \n",
    "from dotenv import load_dotenv\n",
    "\n",
    "load_dotenv()"
   ]
  },
  {
   "cell_type": "code",
   "execution_count": 2,
   "metadata": {},
   "outputs": [],
   "source": [
    "database = os.environ['ORACLE_DATABASE']\n",
    "username = os.environ['ORACLE_USERNAME']\n",
    "password = os.environ['ORACLE_PASSWORD']\n",
    "server = os.environ['ORACLE_ENDPOINT']\n",
    "driver = 'ODBC Driver 17 for SQL Server'"
   ]
  },
  {
   "cell_type": "code",
   "execution_count": 3,
   "metadata": {},
   "outputs": [],
   "source": [
    "from sqlalchemy.engine.url import URL\n",
    "from langchain.sql_database import SQLDatabase\n",
    "\n",
    "db_config = {  \n",
    "    'drivername': 'mssql+pyodbc',  \n",
    "    'username': username + '@' + server,  \n",
    "    'password': password,  \n",
    "    'host': server,  \n",
    "    'port': 1433,  \n",
    "    'database': database,  \n",
    "    'query': {'driver': driver}  \n",
    "}  \n",
    "\n",
    "db_url = URL.create(**db_config)\n",
    "db = SQLDatabase.from_uri(db_url)"
   ]
  },
  {
   "cell_type": "code",
   "execution_count": 4,
   "metadata": {},
   "outputs": [],
   "source": [
    "from langchain_openai import AzureChatOpenAI\n",
    "\n",
    "llm = AzureChatOpenAI(temperature=0, max_tokens=4000)"
   ]
  },
  {
   "cell_type": "code",
   "execution_count": 5,
   "metadata": {},
   "outputs": [],
   "source": [
    "from langchain_community.agent_toolkits import create_sql_agent\n",
    "\n",
    "agent_executor = create_sql_agent(\n",
    "    llm=llm,\n",
    "    db=db,\n",
    "    verbose=True,\n",
    "    agent_type=\"openai-tools\",\n",
    ")"
   ]
  },
  {
   "cell_type": "code",
   "execution_count": 6,
   "metadata": {},
   "outputs": [
    {
     "name": "stdout",
     "output_type": "stream",
     "text": [
      "\n",
      "\n",
      "\u001b[1m> Entering new SQL Agent Executor chain...\u001b[0m\n",
      "\u001b[32;1m\u001b[1;3m\n",
      "Invoking: `sql_db_list_tables` with `{}`\n",
      "\n",
      "\n",
      "\u001b[0m\u001b[38;5;200m\u001b[1;3mTBL1, TBL2, Table_Image, Titanic\u001b[0m\u001b[32;1m\u001b[1;3m\n",
      "Invoking: `sql_db_query` with `{'query': 'SELECT COUNT(*) AS TotalRows FROM Titanic'}`\n",
      "\n",
      "\n",
      "\u001b[0m\u001b[36;1m\u001b[1;3m[(891,)]\u001b[0m\u001b[32;1m\u001b[1;3mThere are 891 rows in the Titanic table.\u001b[0m\n",
      "\n",
      "\u001b[1m> Finished chain.\u001b[0m\n",
      "{'input': 'how many rows are there in the titanic table?', 'output': 'There are 891 rows in the Titanic table.'}\n"
     ]
    }
   ],
   "source": [
    "str = agent_executor.invoke(\"how many rows are there in the titanic table?\")\n",
    "print(str)"
   ]
  },
  {
   "cell_type": "code",
   "execution_count": 9,
   "metadata": {},
   "outputs": [
    {
     "name": "stdout",
     "output_type": "stream",
     "text": [
      "\n",
      "\n",
      "\u001b[1m> Entering new SQL Agent Executor chain...\u001b[0m\n",
      "\u001b[32;1m\u001b[1;3m\n",
      "Invoking: `sql_db_list_tables` with `{}`\n",
      "\n",
      "\n",
      "\u001b[0m\u001b[38;5;200m\u001b[1;3mTBL1, TBL2, Table_Image, Titanic\u001b[0m\u001b[32;1m\u001b[1;3m\n",
      "Invoking: `sql_db_schema` with `{'table_names': 'Titanic'}`\n",
      "\n",
      "\n",
      "\u001b[0m\u001b[33;1m\u001b[1;3m\n",
      "CREATE TABLE [Titanic] (\n",
      "\t[PassengerId] INTEGER NOT NULL, \n",
      "\t[Survived] BIT NOT NULL, \n",
      "\t[Pclass] INTEGER NOT NULL, \n",
      "\t[Name] VARCHAR(100) COLLATE SQL_Latin1_General_CP1_CI_AS NOT NULL, \n",
      "\t[Sex] VARCHAR(10) COLLATE SQL_Latin1_General_CP1_CI_AS NOT NULL, \n",
      "\t[Age] FLOAT(53) NULL, \n",
      "\t[SibSp] INTEGER NOT NULL, \n",
      "\t[Parch] INTEGER NOT NULL, \n",
      "\t[Ticket] VARCHAR(20) COLLATE SQL_Latin1_General_CP1_CI_AS NOT NULL, \n",
      "\t[Fare] FLOAT(53) NOT NULL, \n",
      "\t[Cabin] VARCHAR(20) COLLATE SQL_Latin1_General_CP1_CI_AS NULL, \n",
      "\t[Embarked] CHAR(1) COLLATE SQL_Latin1_General_CP1_CI_AS NULL, \n",
      "\tCONSTRAINT [PK__Titanic__88915FB0D5D80BBE] PRIMARY KEY ([PassengerId])\n",
      ")\n",
      "\n",
      "/*\n",
      "3 rows from Titanic table:\n",
      "PassengerId\tSurvived\tPclass\tName\tSex\tAge\tSibSp\tParch\tTicket\tFare\tCabin\tEmbarked\n",
      "1\tFalse\t3\tBraund, Mr. Owen Harris\tmale\t22.0\t1\t0\tA/5 21171\t7.25\t0\tS\n",
      "2\tTrue\t1\tCumings, Mrs. John Bradley (Florence Briggs Thayer)\tfemale\t38.0\t1\t0\tPC 17599\t71.2833\tC85\tC\n",
      "3\tTrue\t3\tHeikkinen, Miss. Laina\tfemale\t26.0\t0\t0\tSTON/O2. 3101282\t7.925\t0\tS\n",
      "*/\u001b[0m\u001b[32;1m\u001b[1;3m\n",
      "Invoking: `sql_db_query_checker` with `{'query': 'SELECT TOP 1 Name FROM Titanic WHERE Survived = 1 ORDER BY Age DESC'}`\n",
      "\n",
      "\n",
      "\u001b[0m\u001b[36;1m\u001b[1;3mSQL Query:\n",
      "\n",
      "```sql\n",
      "SELECT TOP 1 Name FROM Titanic WHERE Survived = 1 ORDER BY Age DESC\n",
      "```\u001b[0m\u001b[32;1m\u001b[1;3m\n",
      "Invoking: `sql_db_query` with `{'query': 'SELECT TOP 1 Name FROM Titanic WHERE Survived = 1 ORDER BY Age DESC'}`\n",
      "\n",
      "\n",
      "\u001b[0m\u001b[36;1m\u001b[1;3m[('Barkworth, Mr. Algernon Henry Wilson',)]\u001b[0m\u001b[32;1m\u001b[1;3mThe name of the oldest survivor of the Titanic is Mr. Algernon Henry Wilson Barkworth.\u001b[0m\n",
      "\n",
      "\u001b[1m> Finished chain.\u001b[0m\n"
     ]
    },
    {
     "data": {
      "text/plain": [
       "{'input': 'what is the name of the oldest survivor of titanic?',\n",
       " 'output': 'The name of the oldest survivor of the Titanic is Mr. Algernon Henry Wilson Barkworth.'}"
      ]
     },
     "execution_count": 9,
     "metadata": {},
     "output_type": "execute_result"
    }
   ],
   "source": [
    "agent_executor.invoke(\"what is the name of the oldest survivor of titanic?\")"
   ]
  },
  {
   "cell_type": "code",
   "execution_count": 10,
   "metadata": {},
   "outputs": [
    {
     "name": "stdout",
     "output_type": "stream",
     "text": [
      "\n",
      "\n",
      "\u001b[1m> Entering new SQL Agent Executor chain...\u001b[0m\n",
      "\u001b[32;1m\u001b[1;3m\n",
      "Invoking: `sql_db_list_tables` with `{}`\n",
      "\n",
      "\n",
      "\u001b[0m\u001b[38;5;200m\u001b[1;3mTBL1, TBL2, Table_Image, Titanic\u001b[0m\u001b[32;1m\u001b[1;3m\n",
      "Invoking: `sql_db_schema` with `{'table_names': 'Titanic'}`\n",
      "\n",
      "\n",
      "\u001b[0m\u001b[33;1m\u001b[1;3m\n",
      "CREATE TABLE [Titanic] (\n",
      "\t[PassengerId] INTEGER NOT NULL, \n",
      "\t[Survived] BIT NOT NULL, \n",
      "\t[Pclass] INTEGER NOT NULL, \n",
      "\t[Name] VARCHAR(100) COLLATE SQL_Latin1_General_CP1_CI_AS NOT NULL, \n",
      "\t[Sex] VARCHAR(10) COLLATE SQL_Latin1_General_CP1_CI_AS NOT NULL, \n",
      "\t[Age] FLOAT(53) NULL, \n",
      "\t[SibSp] INTEGER NOT NULL, \n",
      "\t[Parch] INTEGER NOT NULL, \n",
      "\t[Ticket] VARCHAR(20) COLLATE SQL_Latin1_General_CP1_CI_AS NOT NULL, \n",
      "\t[Fare] FLOAT(53) NOT NULL, \n",
      "\t[Cabin] VARCHAR(20) COLLATE SQL_Latin1_General_CP1_CI_AS NULL, \n",
      "\t[Embarked] CHAR(1) COLLATE SQL_Latin1_General_CP1_CI_AS NULL, \n",
      "\tCONSTRAINT [PK__Titanic__88915FB0D5D80BBE] PRIMARY KEY ([PassengerId])\n",
      ")\n",
      "\n",
      "/*\n",
      "3 rows from Titanic table:\n",
      "PassengerId\tSurvived\tPclass\tName\tSex\tAge\tSibSp\tParch\tTicket\tFare\tCabin\tEmbarked\n",
      "1\tFalse\t3\tBraund, Mr. Owen Harris\tmale\t22.0\t1\t0\tA/5 21171\t7.25\t0\tS\n",
      "2\tTrue\t1\tCumings, Mrs. John Bradley (Florence Briggs Thayer)\tfemale\t38.0\t1\t0\tPC 17599\t71.2833\tC85\tC\n",
      "3\tTrue\t3\tHeikkinen, Miss. Laina\tfemale\t26.0\t0\t0\tSTON/O2. 3101282\t7.925\t0\tS\n",
      "*/\u001b[0m\u001b[32;1m\u001b[1;3mTo predict the likelihood of survival on the Titanic, you would typically use a classification model since the target variable 'Survived' is binary (indicating whether a passenger survived or not). The choice of model can depend on various factors, including the size and nature of the dataset, the features available, and the performance requirements.\n",
      "\n",
      "Here are some common machine learning models that are often used for binary classification tasks like predicting survival on the Titanic:\n",
      "\n",
      "1. Logistic Regression: A simple and interpretable model that estimates the probability of a binary outcome. It's a good starting point for binary classification problems.\n",
      "\n",
      "2. Decision Trees: A model that splits the data into branches to make a prediction. It is easy to interpret but can be prone to overfitting.\n",
      "\n",
      "3. Random Forest: An ensemble of decision trees that averages multiple trees to improve the predictive accuracy and control overfitting.\n",
      "\n",
      "4. Gradient Boosting Machines (GBM): An ensemble technique that builds trees sequentially, with each tree trying to correct the errors of the previous one.\n",
      "\n",
      "5. Support Vector Machines (SVM): A model that finds the optimal hyperplane to separate the classes. It works well with a clear margin of separation and is effective in high-dimensional spaces.\n",
      "\n",
      "6. Neural Networks: A more complex model that can capture non-linear relationships. It requires more data and computational power but can be very powerful if tuned correctly.\n",
      "\n",
      "7. K-Nearest Neighbors (KNN): A non-parametric method that classifies a sample based on the majority class among its k-nearest neighbors.\n",
      "\n",
      "8. Naive Bayes: A probabilistic classifier based on applying Bayes' theorem with strong independence assumptions between the features.\n",
      "\n",
      "The choice of model should be guided by cross-validation performance on the dataset, and it's often beneficial to try multiple models to see which performs best. Feature engineering and proper preprocessing of the data (such as handling missing values, scaling numerical features, and encoding categorical variables) are also crucial steps before applying any machine learning model.\u001b[0m\n",
      "\n",
      "\u001b[1m> Finished chain.\u001b[0m\n"
     ]
    },
    {
     "data": {
      "text/plain": [
       "{'input': 'which kind of machine learning model should I use to predict the likelihood of survival in titanic?',\n",
       " 'output': \"To predict the likelihood of survival on the Titanic, you would typically use a classification model since the target variable 'Survived' is binary (indicating whether a passenger survived or not). The choice of model can depend on various factors, including the size and nature of the dataset, the features available, and the performance requirements.\\n\\nHere are some common machine learning models that are often used for binary classification tasks like predicting survival on the Titanic:\\n\\n1. Logistic Regression: A simple and interpretable model that estimates the probability of a binary outcome. It's a good starting point for binary classification problems.\\n\\n2. Decision Trees: A model that splits the data into branches to make a prediction. It is easy to interpret but can be prone to overfitting.\\n\\n3. Random Forest: An ensemble of decision trees that averages multiple trees to improve the predictive accuracy and control overfitting.\\n\\n4. Gradient Boosting Machines (GBM): An ensemble technique that builds trees sequentially, with each tree trying to correct the errors of the previous one.\\n\\n5. Support Vector Machines (SVM): A model that finds the optimal hyperplane to separate the classes. It works well with a clear margin of separation and is effective in high-dimensional spaces.\\n\\n6. Neural Networks: A more complex model that can capture non-linear relationships. It requires more data and computational power but can be very powerful if tuned correctly.\\n\\n7. K-Nearest Neighbors (KNN): A non-parametric method that classifies a sample based on the majority class among its k-nearest neighbors.\\n\\n8. Naive Bayes: A probabilistic classifier based on applying Bayes' theorem with strong independence assumptions between the features.\\n\\nThe choice of model should be guided by cross-validation performance on the dataset, and it's often beneficial to try multiple models to see which performs best. Feature engineering and proper preprocessing of the data (such as handling missing values, scaling numerical features, and encoding categorical variables) are also crucial steps before applying any machine learning model.\"}"
      ]
     },
     "execution_count": 10,
     "metadata": {},
     "output_type": "execute_result"
    }
   ],
   "source": [
    "agent_executor.invoke(\"which kind of machine learning model should I use to predict the likelihood of survival in titanic?\")"
   ]
  }
 ],
 "metadata": {
  "kernelspec": {
   "display_name": "Python 3 (ipykernel)",
   "language": "python",
   "name": "python3"
  },
  "language_info": {
   "codemirror_mode": {
    "name": "ipython",
    "version": 3
   },
   "file_extension": ".py",
   "mimetype": "text/x-python",
   "name": "python",
   "nbconvert_exporter": "python",
   "pygments_lexer": "ipython3",
   "version": "3.11.9"
  }
 },
 "nbformat": 4,
 "nbformat_minor": 4
}
